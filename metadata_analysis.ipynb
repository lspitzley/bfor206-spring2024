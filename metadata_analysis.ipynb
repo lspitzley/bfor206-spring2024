{
 "cells": [
  {
   "cell_type": "markdown",
   "metadata": {},
   "source": [
    "# Analysis of CNBC YouTube Video Metadata\n",
    "\n",
    "This notebook is an analysis of the metadata of the CNBC YouTube videos. The dataset contains information about the videos such as the title, description, the number of views, and video duration. The goal of this analysis is to explore the data and find interesting insights."
   ]
  },
  {
   "cell_type": "markdown",
   "metadata": {},
   "source": [
    "## Imports\n",
    "Import pandas to load and summarize our data."
   ]
  },
  {
   "cell_type": "code",
   "execution_count": 1,
   "metadata": {},
   "outputs": [],
   "source": [
    "import pandas as pd"
   ]
  },
  {
   "cell_type": "markdown",
   "metadata": {},
   "source": [
    "## Read in the data"
   ]
  },
  {
   "cell_type": "code",
   "execution_count": 2,
   "metadata": {},
   "outputs": [
    {
     "data": {
      "text/html": [
       "<div>\n",
       "<style scoped>\n",
       "    .dataframe tbody tr th:only-of-type {\n",
       "        vertical-align: middle;\n",
       "    }\n",
       "\n",
       "    .dataframe tbody tr th {\n",
       "        vertical-align: top;\n",
       "    }\n",
       "\n",
       "    .dataframe thead th {\n",
       "        text-align: right;\n",
       "    }\n",
       "</style>\n",
       "<table border=\"1\" class=\"dataframe\">\n",
       "  <thead>\n",
       "    <tr style=\"text-align: right;\">\n",
       "      <th></th>\n",
       "      <th>video_id</th>\n",
       "      <th>title</th>\n",
       "      <th>description</th>\n",
       "      <th>length</th>\n",
       "      <th>view_count</th>\n",
       "      <th>ceo_in_title</th>\n",
       "      <th>duration_seconds</th>\n",
       "    </tr>\n",
       "  </thead>\n",
       "  <tbody>\n",
       "    <tr>\n",
       "      <th>0</th>\n",
       "      <td>w1-XmVZmjKc</td>\n",
       "      <td>The likelihood of mortgage rates going down is...</td>\n",
       "      <td>Jay McCanless, Wedbush housing analyst, joins ...</td>\n",
       "      <td>2:30</td>\n",
       "      <td>153 views</td>\n",
       "      <td>False</td>\n",
       "      <td>150</td>\n",
       "    </tr>\n",
       "    <tr>\n",
       "      <th>1</th>\n",
       "      <td>nIwobHIEIb4</td>\n",
       "      <td>Stripe co-founder John Collison on startups, s...</td>\n",
       "      <td>Stripe co-founder and president John Collison ...</td>\n",
       "      <td>6:17</td>\n",
       "      <td>521 views</td>\n",
       "      <td>False</td>\n",
       "      <td>377</td>\n",
       "    </tr>\n",
       "    <tr>\n",
       "      <th>2</th>\n",
       "      <td>QJuuBz9-8Rc</td>\n",
       "      <td>House TikTok vote expected today: Here's what ...</td>\n",
       "      <td>CNBC’s Emily Wilkins joins 'Squawk on the Stre...</td>\n",
       "      <td>5:27</td>\n",
       "      <td>593 views</td>\n",
       "      <td>False</td>\n",
       "      <td>327</td>\n",
       "    </tr>\n",
       "    <tr>\n",
       "      <th>3</th>\n",
       "      <td>hacSk5BU-WE</td>\n",
       "      <td>HSBC's Max Kettner: High-yield credit and equi...</td>\n",
       "      <td>Max Kettner, HSBC chief multi-asset strategist...</td>\n",
       "      <td>3:39</td>\n",
       "      <td>36 views</td>\n",
       "      <td>False</td>\n",
       "      <td>219</td>\n",
       "    </tr>\n",
       "    <tr>\n",
       "      <th>4</th>\n",
       "      <td>0LQHEoD03ao</td>\n",
       "      <td>Boeing needs to find an 'outsider' as a CEO, s...</td>\n",
       "      <td>Former Pan Am CEO David Banmiller and Gautam M...</td>\n",
       "      <td>4:17</td>\n",
       "      <td>87 views</td>\n",
       "      <td>True</td>\n",
       "      <td>257</td>\n",
       "    </tr>\n",
       "  </tbody>\n",
       "</table>\n",
       "</div>"
      ],
      "text/plain": [
       "      video_id                                              title  \\\n",
       "0  w1-XmVZmjKc  The likelihood of mortgage rates going down is...   \n",
       "1  nIwobHIEIb4  Stripe co-founder John Collison on startups, s...   \n",
       "2  QJuuBz9-8Rc  House TikTok vote expected today: Here's what ...   \n",
       "3  hacSk5BU-WE  HSBC's Max Kettner: High-yield credit and equi...   \n",
       "4  0LQHEoD03ao  Boeing needs to find an 'outsider' as a CEO, s...   \n",
       "\n",
       "                                         description length view_count  \\\n",
       "0  Jay McCanless, Wedbush housing analyst, joins ...   2:30  153 views   \n",
       "1  Stripe co-founder and president John Collison ...   6:17  521 views   \n",
       "2  CNBC’s Emily Wilkins joins 'Squawk on the Stre...   5:27  593 views   \n",
       "3  Max Kettner, HSBC chief multi-asset strategist...   3:39   36 views   \n",
       "4  Former Pan Am CEO David Banmiller and Gautam M...   4:17   87 views   \n",
       "\n",
       "   ceo_in_title  duration_seconds  \n",
       "0         False               150  \n",
       "1         False               377  \n",
       "2         False               327  \n",
       "3         False               219  \n",
       "4          True               257  "
      ]
     },
     "execution_count": 2,
     "metadata": {},
     "output_type": "execute_result"
    }
   ],
   "source": [
    "cnbc_metadata = pd.read_csv('data/metadata.csv')\n",
    "\n",
    "cnbc_metadata.head()"
   ]
  },
  {
   "cell_type": "markdown",
   "metadata": {},
   "source": [
    "## Count the number of videos\n",
    "\n"
   ]
  },
  {
   "cell_type": "code",
   "execution_count": 3,
   "metadata": {},
   "outputs": [
    {
     "name": "stdout",
     "output_type": "stream",
     "text": [
      "There are 53 rows.\n"
     ]
    }
   ],
   "source": [
    "print(f'There are {len(cnbc_metadata)} rows.')"
   ]
  },
  {
   "cell_type": "code",
   "execution_count": 4,
   "metadata": {},
   "outputs": [
    {
     "name": "stdout",
     "output_type": "stream",
     "text": [
      "There are 8 videos with CEO in the title.\n"
     ]
    }
   ],
   "source": [
    "num_ceo_videos = cnbc_metadata['ceo_in_title'].sum()\n",
    "print(f'There are {num_ceo_videos} videos with CEO in the title.')"
   ]
  },
  {
   "cell_type": "markdown",
   "metadata": {},
   "source": [
    "# Question 2\n",
    "\n"
   ]
  },
  {
   "cell_type": "markdown",
   "metadata": {},
   "source": [
    "## 2.5 Average length of videos by CEO/other"
   ]
  },
  {
   "cell_type": "code",
   "execution_count": 12,
   "metadata": {},
   "outputs": [
    {
     "data": {
      "text/plain": [
       "ceo_in_title\n",
       "False    250.066667\n",
       "True     254.625000\n",
       "Name: duration_seconds, dtype: float64"
      ]
     },
     "execution_count": 12,
     "metadata": {},
     "output_type": "execute_result"
    }
   ],
   "source": [
    "cnbc_metadata.groupby('ceo_in_title')['duration_seconds'].mean()\n",
    "# ^           ^        ^               ^                  ^   \n",
    "# data        group    grouping col    data column        summarization function"
   ]
  },
  {
   "cell_type": "markdown",
   "metadata": {},
   "source": [
    "# Question 3\n",
    "\n",
    "## 3.3 Histogram of video lengths\n"
   ]
  },
  {
   "cell_type": "code",
   "execution_count": 6,
   "metadata": {},
   "outputs": [
    {
     "data": {
      "text/plain": [
       "<Axes: >"
      ]
     },
     "execution_count": 6,
     "metadata": {},
     "output_type": "execute_result"
    },
    {
     "data": {
      "image/png": "[encoded data removed]",
      "text/plain": [
       "<Figure size 640x480 with 1 Axes>"
      ]
     },
     "metadata": {},
     "output_type": "display_data"
    }
   ],
   "source": [
    "cnbc_metadata['duration_seconds'].hist()"
   ]
  },
  {
   "cell_type": "code",
   "execution_count": null,
   "metadata": {},
   "outputs": [],
   "source": []
  }
 ],
 "metadata": {
  "kernelspec": {
   "display_name": "py39",
   "language": "python",
   "name": "python3"
  },
  "language_info": {
   "codemirror_mode": {
    "name": "ipython",
    "version": 3
   },
   "file_extension": ".py",
   "mimetype": "text/x-python",
   "name": "python",
   "nbconvert_exporter": "python",
   "pygments_lexer": "ipython3",
   "version": "3.9.16"
  }
 },
 "nbformat": 4,
 "nbformat_minor": 2
}
