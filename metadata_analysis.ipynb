{
 "cells": [
  {
   "cell_type": "markdown",
   "metadata": {},
   "source": [
    "# Analysis of CNBC YouTube Video Metadata\n",
    "\n",
    "This notebook is an analysis of the metadata of the CNBC YouTube videos. The dataset contains information about the videos such as the title, description, the number of views, and video duration. The goal of this analysis is to explore the data and find interesting insights."
   ]
  },
  {
   "cell_type": "markdown",
   "metadata": {},
   "source": [
    "## Imports\n",
    "Import pandas to load and summarize our data."
   ]
  },
  {
   "cell_type": "code",
   "execution_count": 1,
   "metadata": {},
   "outputs": [],
   "source": [
    "import pandas as pd"
   ]
  },
  {
   "cell_type": "markdown",
   "metadata": {},
   "source": [
    "## Read in the data"
   ]
  },
  {
   "cell_type": "code",
   "execution_count": 2,
   "metadata": {},
   "outputs": [
    {
     "data": {
      "text/html": [
       "<div>\n",
       "<style scoped>\n",
       "    .dataframe tbody tr th:only-of-type {\n",
       "        vertical-align: middle;\n",
       "    }\n",
       "\n",
       "    .dataframe tbody tr th {\n",
       "        vertical-align: top;\n",
       "    }\n",
       "\n",
       "    .dataframe thead th {\n",
       "        text-align: right;\n",
       "    }\n",
       "</style>\n",
       "<table border=\"1\" class=\"dataframe\">\n",
       "  <thead>\n",
       "    <tr style=\"text-align: right;\">\n",
       "      <th></th>\n",
       "      <th>video_id</th>\n",
       "      <th>title</th>\n",
       "      <th>description</th>\n",
       "      <th>length</th>\n",
       "      <th>view_count</th>\n",
       "      <th>ceo_in_title</th>\n",
       "      <th>duration_seconds</th>\n",
       "    </tr>\n",
       "  </thead>\n",
       "  <tbody>\n",
       "    <tr>\n",
       "      <th>0</th>\n",
       "      <td>R9bPE-ksEJw</td>\n",
       "      <td>Disney's boardroom showdown: Here's what you n...</td>\n",
       "      <td>James Stewart, New York Times columnist, joins...</td>\n",
       "      <td>3:53</td>\n",
       "      <td>99 views</td>\n",
       "      <td>False</td>\n",
       "      <td>233</td>\n",
       "    </tr>\n",
       "    <tr>\n",
       "      <th>1</th>\n",
       "      <td>L6jFnvl_N3g</td>\n",
       "      <td>Markets have embraced that the Fed is no longe...</td>\n",
       "      <td>Ayako Yoshioka, Wealth Enhancement Group senio...</td>\n",
       "      <td>3:55</td>\n",
       "      <td>897 views</td>\n",
       "      <td>False</td>\n",
       "      <td>235</td>\n",
       "    </tr>\n",
       "    <tr>\n",
       "      <th>2</th>\n",
       "      <td>w1-XmVZmjKc</td>\n",
       "      <td>The likelihood of mortgage rates going down is...</td>\n",
       "      <td>Jay McCanless, Wedbush housing analyst, joins ...</td>\n",
       "      <td>2:30</td>\n",
       "      <td>153 views</td>\n",
       "      <td>False</td>\n",
       "      <td>150</td>\n",
       "    </tr>\n",
       "    <tr>\n",
       "      <th>3</th>\n",
       "      <td>nIwobHIEIb4</td>\n",
       "      <td>Stripe co-founder John Collison on startups, s...</td>\n",
       "      <td>Stripe co-founder and president John Collison ...</td>\n",
       "      <td>6:17</td>\n",
       "      <td>521 views</td>\n",
       "      <td>False</td>\n",
       "      <td>377</td>\n",
       "    </tr>\n",
       "    <tr>\n",
       "      <th>4</th>\n",
       "      <td>QJuuBz9-8Rc</td>\n",
       "      <td>House TikTok vote expected today: Here's what ...</td>\n",
       "      <td>CNBC’s Emily Wilkins joins 'Squawk on the Stre...</td>\n",
       "      <td>5:27</td>\n",
       "      <td>593 views</td>\n",
       "      <td>False</td>\n",
       "      <td>327</td>\n",
       "    </tr>\n",
       "  </tbody>\n",
       "</table>\n",
       "</div>"
      ],
      "text/plain": [
       "      video_id                                              title  \\\n",
       "0  R9bPE-ksEJw  Disney's boardroom showdown: Here's what you n...   \n",
       "1  L6jFnvl_N3g  Markets have embraced that the Fed is no longe...   \n",
       "2  w1-XmVZmjKc  The likelihood of mortgage rates going down is...   \n",
       "3  nIwobHIEIb4  Stripe co-founder John Collison on startups, s...   \n",
       "4  QJuuBz9-8Rc  House TikTok vote expected today: Here's what ...   \n",
       "\n",
       "                                         description length view_count  \\\n",
       "0  James Stewart, New York Times columnist, joins...   3:53   99 views   \n",
       "1  Ayako Yoshioka, Wealth Enhancement Group senio...   3:55  897 views   \n",
       "2  Jay McCanless, Wedbush housing analyst, joins ...   2:30  153 views   \n",
       "3  Stripe co-founder and president John Collison ...   6:17  521 views   \n",
       "4  CNBC’s Emily Wilkins joins 'Squawk on the Stre...   5:27  593 views   \n",
       "\n",
       "   ceo_in_title  duration_seconds  \n",
       "0         False               233  \n",
       "1         False               235  \n",
       "2         False               150  \n",
       "3         False               377  \n",
       "4         False               327  "
      ]
     },
     "execution_count": 2,
     "metadata": {},
     "output_type": "execute_result"
    }
   ],
   "source": [
    "cnbc_metadata = pd.read_csv('data/metadata.csv')\n",
    "\n",
    "cnbc_metadata.head()"
   ]
  },
  {
   "cell_type": "markdown",
   "metadata": {},
   "source": [
    "## Count the number of videos\n",
    "\n"
   ]
  },
  {
   "cell_type": "code",
   "execution_count": 3,
   "metadata": {},
   "outputs": [
    {
     "name": "stdout",
     "output_type": "stream",
     "text": [
      "There are 63 rows.\n"
     ]
    }
   ],
   "source": [
    "print(f'There are {len(cnbc_metadata)} rows.')"
   ]
  },
  {
   "cell_type": "code",
   "execution_count": 4,
   "metadata": {},
   "outputs": [
    {
     "name": "stdout",
     "output_type": "stream",
     "text": [
      "There are 8 videos with CEO in the title.\n"
     ]
    }
   ],
   "source": [
    "num_ceo_videos = cnbc_metadata['ceo_in_title'].sum()\n",
    "print(f'There are {num_ceo_videos} videos with CEO in the title.')"
   ]
  },
  {
   "cell_type": "markdown",
   "metadata": {},
   "source": [
    "# Question 2\n",
    "\n"
   ]
  },
  {
   "cell_type": "markdown",
   "metadata": {},
   "source": [
    "## 2.5 Average length of videos by CEO/other"
   ]
  },
  {
   "cell_type": "code",
   "execution_count": 5,
   "metadata": {},
   "outputs": [
    {
     "data": {
      "text/plain": [
       "ceo_in_title\n",
       "False    240.200\n",
       "True     254.625\n",
       "Name: duration_seconds, dtype: float64"
      ]
     },
     "execution_count": 5,
     "metadata": {},
     "output_type": "execute_result"
    }
   ],
   "source": [
    "cnbc_metadata.groupby('ceo_in_title')['duration_seconds'].mean()\n",
    "# ^           ^        ^               ^                  ^   \n",
    "# data        group    grouping col    data column        summarization function"
   ]
  },
  {
   "cell_type": "markdown",
   "metadata": {},
   "source": [
    "# Question 3\n",
    "\n",
    "## 3.3 Histogram of video lengths\n"
   ]
  },
  {
   "cell_type": "code",
   "execution_count": 6,
   "metadata": {},
   "outputs": [
    {
     "data": {
      "text/plain": [
       "<Axes: >"
      ]
     },
     "execution_count": 6,
     "metadata": {},
     "output_type": "execute_result"
    },
    {
     "data": {
      "image/png": "[encoded data removed]",
      "text/plain": [
       "<Figure size 640x480 with 1 Axes>"
      ]
     },
     "metadata": {},
     "output_type": "display_data"
    }
   ],
   "source": [
    "cnbc_metadata['duration_seconds'].hist()"
   ]
  },
  {
   "cell_type": "markdown",
   "metadata": {},
   "source": [
    "# Question 4: Deeper Analysis\n",
    "\n",
    "## 4.1 Most common words in video titles"
   ]
  },
  {
   "cell_type": "code",
   "execution_count": 8,
   "metadata": {},
   "outputs": [
    {
     "name": "stdout",
     "output_type": "stream",
     "text": [
      "Counter({'to': 22, 'says': 15, 'the': 12, \"Here's\": 11, 'of': 9, 'on': 9, 'and': 8, 'in': 8, 'know': 7, 'a': 7, 'what': 6, 'need': 6, 'have': 6, 'is': 6, 'why': 6, 'you': 5, 'as': 5, 'for': 5, 'Cramer’s': 5, 'AI': 4, 'TikTok': 4, 'Apple': 4, 'Opening': 4, 'Bell:': 4, '2024': 4, 'CEO': 4, 'The': 3, 'rates': 3, 'still': 3, 'new': 3, 'with': 3, 'March': 3, 'CEO:': 3, 'We': 3, 'Disney': 3, 'will': 3, 'Mad': 3, 'Dash:': 3, 'be': 3, 'Stop': 3, 'Trading:': 3, \"Disney's\": 2, 'Fed': 2, 'going': 2, 'consumer': 2, 'House': 2, 'expected': 2, 'Boeing': 2, 'an': 2, 'bill:': 2, 'into': 2, 'should': 2, 'June,': 2, \"Research's\": 2, 'Reddit': 2, 'IPO': 2, 'energy': 2, 'want': 2, \"Nvidia's\": 2, 'stock': 2, 'are': 2, 'oil': 2, 'demand': 2, 'ban': 2, 'Bob': 2, 'wealth': 2, 'this': 2, 'target': 2, 'was': 2, 'Donald': 2, 'home': 2, 'market': 2, 'April': 2, 'Capital': 2, 'Charles': 2, 'price': 2, 'boardroom': 1, 'showdown:': 1, 'Markets': 1, 'embraced': 1, 'that': 1, 'no': 1, 'longer': 1, 'raising': 1, 'rates:': 1, 'Wealth': 1, \"Enhancement's\": 1, 'Yoshioka': 1, 'likelihood': 1, 'mortgage': 1, 'down': 1, 'pretty': 1, 'low,': 1, \"Wedbush's\": 1, 'Jay': 1, 'McCanless': 1, 'Stripe': 1, 'co-founder': 1, 'John': 1, 'Collison': 1, 'startups,': 1, 'state': 1, 'impact': 1, 'vote': 1, 'today:': 1, \"HSBC's\": 1, 'Max': 1, 'Kettner:': 1, 'High-yield': 1, 'credit': 1, 'equities': 1, 'overall': 1, 'look': 1, \"'pretty\": 1, \"good'\": 1, 'ISM': 1, 'PMI': 1, 'comes': 1, 'cooler': 1, 'than': 1, 'needs': 1, 'find': 1, \"'outsider'\": 1, 'CEO,': 1, \"Yale's\": 1, 'Gautam': 1, 'Mukunda': 1, 'passes': 1, 'What': 1, 'investors': 1, 'EU': 1, 'launches': 1, 'investigation': 1, 'Meta,': 1, 'Alphabet': 1, 'app': 1, 'store': 1, 'by': 1, 'Melius': 1, 'Ben': 1, 'Reitzes': 1, 'Commerce': 1, 'Treasury': 1, 'Departments': 1, 'release': 1, 'recommendations': 1, 'regulating': 1, '25,': 1, 'aims': 1, 'raise': 1, 'nearly': 1, '$750': 1, 'million': 1, 'upcoming': 1, 'begin': 1, 'search': 1, 'EQT': 1, 'fix': 1, 'grid': 1, 'if': 1, 'we': 1, 'fuel': 1, 'boom': 1, 'board': 1, 'battle': 1, 'final': 1, 'days:': 1, 'Room': 1, 'consolidate': 1, 'absorb': 1, 'momentum,': 1, 'Renaissance': 1, \"Macro's\": 1, 'deGraaf': 1, 'There': 1, 'some': 1, 'serious': 1, 'problems': 1, \"'TikTok\": 1, \"ban'\": 1, \"SentinelOne's\": 1, 'Alex': 1, 'Stamos': 1, 'Constructive': 1, 'Canadian': 1, 'complex': 1, 'peak': 1, 'hits': 1, 'next': 1, 'decade,': 1, \"Goldman's\": 1, 'Mehta': 1, '47%': 1, 'CNBC': 1, 'All-America': 1, 'Economic': 1, 'Survey': 1, 'respondents': 1, 'support': 1, 'or': 1, 'sale': 1, 'Broader': 1, 'markets': 1, 'likely': 1, 'pause': 1, 'long': 1, 'tick': 1, 'up,': 1, 'Wells': 1, \"Fargo's\": 1, 'Sameer': 1, 'Samana': 1, 'Faber': 1, 'Report:': 1, 'Jamie': 1, 'Dimon': 1, 'endorses': 1, 'Iger': 1, 'proxy': 1, 'fight': 1, 'Trian': 1, 'Partners': 1, 'Citi': 1, 'downgrades': 1, 'tech': 1, 'stocks,': 1, \"here's\": 1, 'Household': 1, 'reaches': 1, 'all-time': 1, 'high': 1, '$156': 1, 'trillion': 1, 'Strategic': 1, 'Petroleum': 1, 'Reserve': 1, 'become': 1, 'live': 1, 'issue': 1, 'Biden': 1, 'summer,': 1, \"RBC's\": 1, 'Croft': 1, 'under': 1, 'regulatory': 1, 'pressure:': 1, 'BofA': 1, 'maintains': 1, 'its': 1, 'S&P': 1, '500': 1, 'year-end': 1, '5,400': 1, 'Investors': 1, 'separate': 1, 'political': 1, 'views': 1, 'from': 1, 'investment': 1, 'themes,': 1, 'Morgan': 1, \"Stanley's\": 1, 'Sherry': 1, 'Paul': 1, 'Baltimore': 1, 'bridge': 1, 'collapse': 1, \"'completely\": 1, \"preventable',\": 1, 'Broughton': 1, 'given': 1, 'Chinese': 1, 'government': 1, 'direct': 1, 'tool': 1, 'all': 1, 'our': 1, \"kid's\": 1, 'pockets,': 1, 'Bradley': 1, 'Tusk': 1, 'Tyson': 1, 'Foods': 1, 'Squawk': 1, 'Pod:': 1, 'California’s': 1, '$20': 1, 'minimum': 1, 'wage': 1, '&': 1, 'wins': 1, 'DC': 1, 'sports': 1, '-': 1, '04/01/24': 1, '|': 1, 'Audio': 1, 'Only': 1, 'Ellevest': 1, 'It': 1, \"won't\": 1, 'too': 1, 'many': 1, 'years': 1, 'before': 1, 'women': 1, 'majority': 1, 'U.S.': 1, \"Neuberger's\": 1, 'Kei': 1, 'Okamura:': 1, \"Japan's\": 1, 'equity': 1, 'looks': 1, \"'quite\": 1, \"attractive'\": 1, 'Expect': 1, 'first': 1, 'rate': 1, 'cut': 1, 'come': 1, \"Citi's\": 1, 'Hollenhorst': 1, 'Both': 1, 'gold': 1, 'provide': 1, 'solid': 1, 'geopolitical': 1, 'hedging': 1, 'value,': 1, 'Goldman': 1, \"Sachs'\": 1, 'Daan': 1, 'Struyven': 1, '13,': 1, 'Recession': 1, 'happen': 1, 'Covid': 1, 'savings': 1, 'run': 1, 'out,': 1, \"Crossmark's\": 1, 'Doll': 1, \"EU's\": 1, 'Vestager': 1, 'fine:': 1, 'Quite': 1, 'obvious': 1, 'there': 1, 'harm': 1, 'done': 1, 'Michael': 1, 'Landsberg': 1, 'his': 1, 'top': 1, 'picks:': 1, 'SNPS,': 1, 'ORLY,': 1, 'AXON,': 1, 'RHMB': 1, 'Edward': 1, \"Jones'\": 1, 'Mona': 1, 'Mahajan': 1, 'closely': 1, 'watching': 1, 'CPI': 1, 'data': 1, 'leaders': 1, 'continue': 1, 'lead': 1, 'way,': 1, 'Defiance': 1, 'ETFs': 1, 'Sylvia': 1, 'Jablonski': 1, '27,': 1, 'Oakmark': 1, \"Funds'\": 1, 'Mike': 1, 'Nicolas': 1, 'bullish': 1, 'One': 1, 'Schwab': 1, 'Liberty': 1, 'Media': 1, '$4.5B': 1, 'MotoGP': 1, 'deal:': 1, 'show': 1, 'world': 1, 'how': 1, 'exciting': 1, 'sport': 1, 'Taylor': 1, 'Morrison': 1, \"We're\": 1, 'good': 1, 'place': 1, 'interest': 1, \"'slightly'\": 1, 'moderated': 1, 'Apple:': 1, 'Loop': 1, 'cuts': 1, 'iPhone': 1, \"maker's\": 1, 'weak': 1, 'United': 1, 'Airlines': 1, 'asks': 1, 'pilots': 1, 'take': 1, 'unpaid': 1, 'time': 1, 'off,': 1, 'citing': 1, \"Boeing's\": 1, 'delayed': 1, 'aircraft': 1, 'Election': 1, 'has': 1, 'chance': 1, 'volatility': 1, 'driver': 1, 'equities,': 1, \"Schwab's\": 1, 'Sonders': 1, 'Cantor': 1, \"Fitzgerald's\": 1, 'C.J.': 1, 'Muse': 1, '$1,200': 1, 'target:': 1, 'Still': 1, 'plenty': 1, 'legroom': 1, 'higher': 1, 'Cintas': 1, 'direct-to-consumer': 1, 'forecast': 1, 'profitable': 1, '2026:': 1, 'Wolfe': 1, 'Peter': 1, 'Supino': 1, \"Cramer's\": 1, 'SoFi': 1, 'Micron': 1, 'Former': 1, 'President': 1, 'Trump': 1, 'entitlements:': 1, \"There's\": 1, 'tremendous': 1, 'numbers': 1, 'things': 1, 'can': 1, 'do': 1, 'Citigroup': 1, '3,': 1, 'gaining': 1, 'momentum:': 1, 'reveals': 1, 'terms:': 1, \"BMO's\": 1, 'Simeon': 1, 'Siegel': 1, 'favors': 1, 'Nike': 1, 'Lululemon': 1, 'February': 1, 'sales': 1, 'narrowly': 1, 'miss': 1, 'expectations': 1, 'downside': 1})\n"
     ]
    }
   ],
   "source": [
    "from collections import Counter\n",
    "word_counts = Counter()\n",
    "\n",
    "cnbc_metadata['title'].str.split().apply(word_counts.update)\n",
    "print(word_counts)"
   ]
  },
  {
   "cell_type": "code",
   "execution_count": 10,
   "metadata": {},
   "outputs": [
    {
     "name": "stdout",
     "output_type": "stream",
     "text": [
      "[('to', 22), ('the', 15), ('says', 15), (\"here's\", 12), ('of', 9), ('on', 9), ('and', 8), ('in', 8), ('what', 7), ('know', 7), ('a', 7), ('need', 6), ('have', 6), ('is', 6), ('why', 6), ('you', 5), ('as', 5), ('for', 5), ('cramer’s', 5), ('ai', 4)]\n"
     ]
    }
   ],
   "source": [
    "word_counts = Counter()\n",
    "\n",
    "cnbc_metadata['title'].str.lower().str.split().apply(word_counts.update)\n",
    "\n",
    "print(word_counts.most_common(20))"
   ]
  },
  {
   "cell_type": "code",
   "execution_count": 14,
   "metadata": {},
   "outputs": [
    {
     "name": "stdout",
     "output_type": "stream",
     "text": [
      "word\t\tcount\n",
      "____\t\t_____\n"
     ]
    }
   ],
   "source": [
    "print('word\\t\\tcount')\n",
    "print('____\\t\\t_____')"
   ]
  },
  {
   "cell_type": "code",
   "execution_count": null,
   "metadata": {},
   "outputs": [],
   "source": []
  }
 ],
 "metadata": {
  "kernelspec": {
   "display_name": "py39",
   "language": "python",
   "name": "python3"
  },
  "language_info": {
   "codemirror_mode": {
    "name": "ipython",
    "version": 3
   },
   "file_extension": ".py",
   "mimetype": "text/x-python",
   "name": "python",
   "nbconvert_exporter": "python",
   "pygments_lexer": "ipython3",
   "version": "3.9.16"
  }
 },
 "nbformat": 4,
 "nbformat_minor": 2
}
