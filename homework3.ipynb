{
 "cells": [
  {
   "cell_type": "markdown",
   "metadata": {},
   "source": [
    "# Homework 3 Data Analysis\n"
   ]
  },
  {
   "cell_type": "markdown",
   "metadata": {},
   "source": [
    "## Imports\n"
   ]
  },
  {
   "cell_type": "code",
   "execution_count": 1,
   "metadata": {},
   "outputs": [],
   "source": [
    "import os\n",
    "import pandas as pd\n",
    "from nltk.sentiment import SentimentIntensityAnalyzer"
   ]
  },
  {
   "cell_type": "code",
   "execution_count": 14,
   "metadata": {},
   "outputs": [
    {
     "name": "stderr",
     "output_type": "stream",
     "text": [
      "[nltk_data] Downloading package vader_lexicon to\n",
      "[nltk_data]     /Users/leespitzley/nltk_data...\n",
      "[nltk_data]   Package vader_lexicon is already up-to-date!\n"
     ]
    },
    {
     "data": {
      "text/plain": [
       "True"
      ]
     },
     "execution_count": 14,
     "metadata": {},
     "output_type": "execute_result"
    }
   ],
   "source": [
    "# If you do not have the vader lexicon installed, there will be an error\n",
    "# to install\n",
    "import nltk\n",
    "nltk.download('vader_lexicon')\n",
    "\n",
    "# after it is successful you can delete this code."
   ]
  },
  {
   "cell_type": "code",
   "execution_count": 6,
   "metadata": {},
   "outputs": [
    {
     "name": "stdout",
     "output_type": "stream",
     "text": [
      "{'neg': 0.266, 'neu': 0.415, 'pos': 0.318, 'compound': -0.0644}\n"
     ]
    }
   ],
   "source": [
    "# sentiment demo\n",
    "sentiment_analyzer = SentimentIntensityAnalyzer()\n",
    "example_1 = 'Programming is super fun, but sometimes it is frustrating.'\n",
    "sentiment_1 = sentiment_analyzer.polarity_scores(example_1)\n",
    "print(sentiment_1)"
   ]
  },
  {
   "cell_type": "code",
   "execution_count": 7,
   "metadata": {},
   "outputs": [],
   "source": [
    "transcript_folder = 'data/transcripts/'"
   ]
  },
  {
   "cell_type": "code",
   "execution_count": 11,
   "metadata": {},
   "outputs": [
    {
     "name": "stdout",
     "output_type": "stream",
     "text": [
      "ernwEzDFGu8.txt\n",
      "ernwEzDFGu8.en.vtt\n",
      "There are 1 transcript txt files.\n"
     ]
    }
   ],
   "source": [
    "transcript_files = []\n",
    "for file in os.listdir(transcript_folder):\n",
    "    print(file)\n",
    "    if file.endswith('.txt'):\n",
    "        transcript_files.append(file)\n",
    "print(f'There are {len(transcript_files)} transcript txt files.')"
   ]
  },
  {
   "cell_type": "code",
   "execution_count": 12,
   "metadata": {},
   "outputs": [],
   "source": [
    "# read in transcripts to a dataframe\n",
    "transcripts = pd.DataFrame()\n",
    "for file in transcript_files:\n",
    "\twith open(transcript_folder + file, 'r') as f:\n",
    "\t\ttranscript = f.read()\n",
    "\t# the following line adds the transcript to the dataframe\n",
    "\ttranscripts = pd.concat([transcripts, pd.DataFrame({'file': file, 'transcript': transcript}, index=[0])])\n"
   ]
  },
  {
   "cell_type": "code",
   "execution_count": 13,
   "metadata": {},
   "outputs": [],
   "source": [
    "# get positive sentiment of each transcript\n",
    "sentiment_analyzer = SentimentIntensityAnalyzer()\n",
    "transcripts['pos_sentiment'] = transcripts['transcript'].apply(lambda x: sentiment_analyzer.polarity_scores(x)['pos'])\n"
   ]
  },
  {
   "cell_type": "code",
   "execution_count": null,
   "metadata": {},
   "outputs": [],
   "source": []
  }
 ],
 "metadata": {
  "kernelspec": {
   "display_name": "py39",
   "language": "python",
   "name": "python3"
  },
  "language_info": {
   "codemirror_mode": {
    "name": "ipython",
    "version": 3
   },
   "file_extension": ".py",
   "mimetype": "text/x-python",
   "name": "python",
   "nbconvert_exporter": "python",
   "pygments_lexer": "ipython3",
   "version": "3.9.16"
  }
 },
 "nbformat": 4,
 "nbformat_minor": 2
}
